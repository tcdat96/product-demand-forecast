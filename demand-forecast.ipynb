{
 "cells": [
  {
   "cell_type": "markdown",
   "metadata": {},
   "source": [
    "# Product Demand Forecast"
   ]
  },
  {
   "cell_type": "code",
   "execution_count": 49,
   "metadata": {},
   "outputs": [],
   "source": [
    "import pandas as pd\n",
    "import numpy as np\n",
    "\n",
    "import seaborn as sns\n",
    "import matplotlib as plt\n",
    "\n",
    "from statsmodels.tsa.stattools import adfuller\n",
    "\n",
    "from tqdm.notebook import tqdm"
   ]
  },
  {
   "cell_type": "markdown",
   "metadata": {},
   "source": [
    "## Explore data"
   ]
  },
  {
   "cell_type": "markdown",
   "metadata": {},
   "source": [
    "### Read input data"
   ]
  },
  {
   "cell_type": "code",
   "execution_count": 3,
   "metadata": {
    "scrolled": false
   },
   "outputs": [
    {
     "name": "stdout",
     "output_type": "stream",
     "text": [
      "Original: (1048575, 5)\n"
     ]
    },
    {
     "data": {
      "text/html": [
       "<div>\n",
       "<style scoped>\n",
       "    .dataframe tbody tr th:only-of-type {\n",
       "        vertical-align: middle;\n",
       "    }\n",
       "\n",
       "    .dataframe tbody tr th {\n",
       "        vertical-align: top;\n",
       "    }\n",
       "\n",
       "    .dataframe thead th {\n",
       "        text-align: right;\n",
       "    }\n",
       "</style>\n",
       "<table border=\"1\" class=\"dataframe\">\n",
       "  <thead>\n",
       "    <tr style=\"text-align: right;\">\n",
       "      <th></th>\n",
       "      <th>Product_Code</th>\n",
       "      <th>Warehouse</th>\n",
       "      <th>Product_Category</th>\n",
       "      <th>Date</th>\n",
       "      <th>Order_Demand</th>\n",
       "    </tr>\n",
       "  </thead>\n",
       "  <tbody>\n",
       "    <tr>\n",
       "      <th>0</th>\n",
       "      <td>Product_0993</td>\n",
       "      <td>Whse_J</td>\n",
       "      <td>Category_028</td>\n",
       "      <td>2012/7/27</td>\n",
       "      <td>100</td>\n",
       "    </tr>\n",
       "    <tr>\n",
       "      <th>1</th>\n",
       "      <td>Product_0979</td>\n",
       "      <td>Whse_J</td>\n",
       "      <td>Category_028</td>\n",
       "      <td>2012/1/19</td>\n",
       "      <td>500</td>\n",
       "    </tr>\n",
       "    <tr>\n",
       "      <th>2</th>\n",
       "      <td>Product_0979</td>\n",
       "      <td>Whse_J</td>\n",
       "      <td>Category_028</td>\n",
       "      <td>2012/2/3</td>\n",
       "      <td>500</td>\n",
       "    </tr>\n",
       "    <tr>\n",
       "      <th>3</th>\n",
       "      <td>Product_0979</td>\n",
       "      <td>Whse_J</td>\n",
       "      <td>Category_028</td>\n",
       "      <td>2012/2/9</td>\n",
       "      <td>500</td>\n",
       "    </tr>\n",
       "  </tbody>\n",
       "</table>\n",
       "</div>"
      ],
      "text/plain": [
       "   Product_Code Warehouse Product_Category       Date Order_Demand\n",
       "0  Product_0993    Whse_J     Category_028  2012/7/27         100 \n",
       "1  Product_0979    Whse_J     Category_028  2012/1/19         500 \n",
       "2  Product_0979    Whse_J     Category_028   2012/2/3         500 \n",
       "3  Product_0979    Whse_J     Category_028   2012/2/9         500 "
      ]
     },
     "execution_count": 3,
     "metadata": {},
     "output_type": "execute_result"
    }
   ],
   "source": [
    "orig_demand_df = pd.read_csv('Historical Product Demand.csv')\n",
    "print('Original: ' + str(orig_demand_df.shape))\n",
    "orig_demand_df.head(4)"
   ]
  },
  {
   "cell_type": "markdown",
   "metadata": {},
   "source": [
    "### Data preprocessing"
   ]
  },
  {
   "cell_type": "markdown",
   "metadata": {},
   "source": [
    "Use more compact and consistent column names"
   ]
  },
  {
   "cell_type": "code",
   "execution_count": 21,
   "metadata": {},
   "outputs": [],
   "source": [
    "demand_df = orig_demand_df.copy()\n",
    "demand_df.columns = ['ID', 'Warehouse', 'Category', 'Date', 'Demand']"
   ]
  },
  {
   "cell_type": "markdown",
   "metadata": {},
   "source": [
    "Then, Let's check for NAs"
   ]
  },
  {
   "cell_type": "code",
   "execution_count": 7,
   "metadata": {},
   "outputs": [
    {
     "data": {
      "text/plain": [
       "ID               0\n",
       "Warehouse        0\n",
       "Category         0\n",
       "Date         11239\n",
       "Demand           0\n",
       "dtype: int64"
      ]
     },
     "execution_count": 7,
     "metadata": {},
     "output_type": "execute_result"
    }
   ],
   "source": [
    "demand_df.isna().sum()"
   ]
  },
  {
   "cell_type": "markdown",
   "metadata": {},
   "source": [
    "As we can see, only date column has NAs. Since we literally have no way to figure out the missing date, we need to drop all of them."
   ]
  },
  {
   "cell_type": "code",
   "execution_count": 22,
   "metadata": {},
   "outputs": [
    {
     "name": "stdout",
     "output_type": "stream",
     "text": [
      "After: (1037336, 5)\n"
     ]
    }
   ],
   "source": [
    "# remove NA\n",
    "demand_df.dropna(inplace=True)\n",
    "print('After: ' + str(demand_df.shape))"
   ]
  },
  {
   "cell_type": "code",
   "execution_count": 23,
   "metadata": {},
   "outputs": [],
   "source": [
    "# convert demand to int\n",
    "demand_df.Demand = demand_df.Demand.str.replace('\\(|\\)', '').astype(int)\n",
    "# convert to datetime\n",
    "demand_df.Date = pd.to_datetime(demand_df.Date)"
   ]
  },
  {
   "cell_type": "code",
   "execution_count": 24,
   "metadata": {},
   "outputs": [],
   "source": [
    "# Remove redundant prefixes\n",
    "demand_df.ID = [cat.split('_')[1] for cat in demand_df.ID]\n",
    "demand_df.Category = [cat.split('_')[1] for cat in demand_df.Category]"
   ]
  },
  {
   "cell_type": "markdown",
   "metadata": {},
   "source": [
    "convert the data to daily"
   ]
  },
  {
   "cell_type": "code",
   "execution_count": 38,
   "metadata": {},
   "outputs": [
    {
     "data": {
      "text/html": [
       "<div>\n",
       "<style scoped>\n",
       "    .dataframe tbody tr th:only-of-type {\n",
       "        vertical-align: middle;\n",
       "    }\n",
       "\n",
       "    .dataframe tbody tr th {\n",
       "        vertical-align: top;\n",
       "    }\n",
       "\n",
       "    .dataframe thead th {\n",
       "        text-align: right;\n",
       "    }\n",
       "</style>\n",
       "<table border=\"1\" class=\"dataframe\">\n",
       "  <thead>\n",
       "    <tr style=\"text-align: right;\">\n",
       "      <th></th>\n",
       "      <th>ID</th>\n",
       "      <th>Date</th>\n",
       "      <th>Category</th>\n",
       "      <th>Demand</th>\n",
       "    </tr>\n",
       "  </thead>\n",
       "  <tbody>\n",
       "    <tr>\n",
       "      <th>232656</th>\n",
       "      <td>0965</td>\n",
       "      <td>2011-01-08</td>\n",
       "      <td>006</td>\n",
       "      <td>2</td>\n",
       "    </tr>\n",
       "    <tr>\n",
       "      <th>484830</th>\n",
       "      <td>1724</td>\n",
       "      <td>2011-05-31</td>\n",
       "      <td>003</td>\n",
       "      <td>108</td>\n",
       "    </tr>\n",
       "    <tr>\n",
       "      <th>436505</th>\n",
       "      <td>1521</td>\n",
       "      <td>2011-06-24</td>\n",
       "      <td>019</td>\n",
       "      <td>92000</td>\n",
       "    </tr>\n",
       "    <tr>\n",
       "      <th>429489</th>\n",
       "      <td>1507</td>\n",
       "      <td>2011-09-02</td>\n",
       "      <td>019</td>\n",
       "      <td>1250</td>\n",
       "    </tr>\n",
       "    <tr>\n",
       "      <th>151560</th>\n",
       "      <td>0608</td>\n",
       "      <td>2011-09-27</td>\n",
       "      <td>001</td>\n",
       "      <td>5</td>\n",
       "    </tr>\n",
       "    <tr>\n",
       "      <th>...</th>\n",
       "      <td>...</td>\n",
       "      <td>...</td>\n",
       "      <td>...</td>\n",
       "      <td>...</td>\n",
       "    </tr>\n",
       "    <tr>\n",
       "      <th>533387</th>\n",
       "      <td>1954</td>\n",
       "      <td>2017-01-06</td>\n",
       "      <td>001</td>\n",
       "      <td>3</td>\n",
       "    </tr>\n",
       "    <tr>\n",
       "      <th>538289</th>\n",
       "      <td>1970</td>\n",
       "      <td>2017-01-06</td>\n",
       "      <td>005</td>\n",
       "      <td>4000</td>\n",
       "    </tr>\n",
       "    <tr>\n",
       "      <th>75607</th>\n",
       "      <td>0250</td>\n",
       "      <td>2017-01-09</td>\n",
       "      <td>007</td>\n",
       "      <td>148</td>\n",
       "    </tr>\n",
       "    <tr>\n",
       "      <th>130234</th>\n",
       "      <td>0471</td>\n",
       "      <td>2017-01-09</td>\n",
       "      <td>015</td>\n",
       "      <td>30</td>\n",
       "    </tr>\n",
       "    <tr>\n",
       "      <th>525952</th>\n",
       "      <td>1904</td>\n",
       "      <td>2017-01-09</td>\n",
       "      <td>019</td>\n",
       "      <td>4000</td>\n",
       "    </tr>\n",
       "  </tbody>\n",
       "</table>\n",
       "<p>582504 rows × 4 columns</p>\n",
       "</div>"
      ],
      "text/plain": [
       "          ID       Date Category  Demand\n",
       "232656  0965 2011-01-08      006       2\n",
       "484830  1724 2011-05-31      003     108\n",
       "436505  1521 2011-06-24      019   92000\n",
       "429489  1507 2011-09-02      019    1250\n",
       "151560  0608 2011-09-27      001       5\n",
       "...      ...        ...      ...     ...\n",
       "533387  1954 2017-01-06      001       3\n",
       "538289  1970 2017-01-06      005    4000\n",
       "75607   0250 2017-01-09      007     148\n",
       "130234  0471 2017-01-09      015      30\n",
       "525952  1904 2017-01-09      019    4000\n",
       "\n",
       "[582504 rows x 4 columns]"
      ]
     },
     "execution_count": 38,
     "metadata": {},
     "output_type": "execute_result"
    }
   ],
   "source": [
    "daily_demand_df = demand_df.groupby(['ID', 'Date', 'Category']).sum()\n",
    "daily_demand_df = daily_demand_df.reset_index().sort_values(['Date', 'ID'])\n",
    "daily_demand_df"
   ]
  },
  {
   "cell_type": "markdown",
   "metadata": {},
   "source": [
    "A little summary for our data"
   ]
  },
  {
   "cell_type": "code",
   "execution_count": 40,
   "metadata": {},
   "outputs": [
    {
     "name": "stdout",
     "output_type": "stream",
     "text": [
      "Date range: (2011-01-08 00:00:00, 2017-01-09 00:00:00)\n"
     ]
    },
    {
     "data": {
      "text/html": [
       "<div>\n",
       "<style scoped>\n",
       "    .dataframe tbody tr th:only-of-type {\n",
       "        vertical-align: middle;\n",
       "    }\n",
       "\n",
       "    .dataframe tbody tr th {\n",
       "        vertical-align: top;\n",
       "    }\n",
       "\n",
       "    .dataframe thead th {\n",
       "        text-align: right;\n",
       "    }\n",
       "</style>\n",
       "<table border=\"1\" class=\"dataframe\">\n",
       "  <thead>\n",
       "    <tr style=\"text-align: right;\">\n",
       "      <th></th>\n",
       "      <th>ID</th>\n",
       "      <th>Category</th>\n",
       "      <th>Demand</th>\n",
       "    </tr>\n",
       "  </thead>\n",
       "  <tbody>\n",
       "    <tr>\n",
       "      <th>count</th>\n",
       "      <td>582504</td>\n",
       "      <td>582504</td>\n",
       "      <td>582504.0</td>\n",
       "    </tr>\n",
       "    <tr>\n",
       "      <th>unique</th>\n",
       "      <td>2160</td>\n",
       "      <td>33</td>\n",
       "      <td>NaN</td>\n",
       "    </tr>\n",
       "    <tr>\n",
       "      <th>top</th>\n",
       "      <td>0349</td>\n",
       "      <td>019</td>\n",
       "      <td>NaN</td>\n",
       "    </tr>\n",
       "    <tr>\n",
       "      <th>freq</th>\n",
       "      <td>1295</td>\n",
       "      <td>205646</td>\n",
       "      <td>NaN</td>\n",
       "    </tr>\n",
       "  </tbody>\n",
       "</table>\n",
       "</div>"
      ],
      "text/plain": [
       "            ID Category    Demand\n",
       "count   582504   582504  582504.0\n",
       "unique    2160       33       NaN\n",
       "top       0349      019       NaN\n",
       "freq      1295   205646       NaN"
      ]
     },
     "execution_count": 40,
     "metadata": {},
     "output_type": "execute_result"
    }
   ],
   "source": [
    "print('Date range: ({}, {})'.format(daily_demand_df.Date.min(), daily_demand_df.Date.max()))\n",
    "daily_demand_df.drop('Date', axis=1).describe(include='all').iloc[:4,:]"
   ]
  },
  {
   "cell_type": "markdown",
   "metadata": {},
   "source": [
    "### Generic plots"
   ]
  },
  {
   "cell_type": "code",
   "execution_count": 8,
   "metadata": {},
   "outputs": [],
   "source": [
    "sns.set(rc={'figure.figsize':(15, 8)})"
   ]
  },
  {
   "cell_type": "code",
   "execution_count": 10,
   "metadata": {},
   "outputs": [],
   "source": [
    "# # sns.lineplot(data=demand_df, x='Date', y='Order_Demand', hue='Product_Category')\n",
    "\n",
    "# cumsum_demand_df = demand_df.sort_values('Date')\n",
    "# cumsum_demand_df['cumsum'] = cumsum_demand_df.groupby('Product_Category').cumsum()\n",
    "\n",
    "# sns.lineplot(data=cumsum_demand_df, x='Date', y='cumsum', hue='Product_Category')\n",
    "\n",
    "# del cumsum_demand_df"
   ]
  },
  {
   "cell_type": "code",
   "execution_count": null,
   "metadata": {},
   "outputs": [],
   "source": [
    "demand_by_cat_df = demand_df.groupby('Product_Category').sum().reset_index()\n",
    "sns.set_style(\"whitegrid\")\n",
    "g = sns.barplot(data=demand_by_cat_df, y='Order_Demand', x='Product_Category')\n",
    "g.set_yscale(\"log\")\n",
    "del demand_by_cat_df, g"
   ]
  },
  {
   "cell_type": "code",
   "execution_count": null,
   "metadata": {},
   "outputs": [],
   "source": [
    "g = sns.boxplot(data=demand_df, y='Order_Demand', x='Product_Category', showfliers=True)\n",
    "g.set_yscale(\"log\")\n",
    "del g"
   ]
  },
  {
   "cell_type": "code",
   "execution_count": null,
   "metadata": {},
   "outputs": [],
   "source": [
    "g = sns.boxplot(data=demand_df, y='Order_Demand', x='Warehouse', showfliers=True)\n",
    "g.set_yscale(\"log\")\n",
    "del g"
   ]
  },
  {
   "cell_type": "markdown",
   "metadata": {},
   "source": [
    "## ARIMA"
   ]
  },
  {
   "cell_type": "markdown",
   "metadata": {},
   "source": [
    "### Check for stationarity"
   ]
  },
  {
   "cell_type": "code",
   "execution_count": 42,
   "metadata": {},
   "outputs": [],
   "source": [
    "# simple function to filter dataframe with given parameters\n",
    "def filter_demand(df, ID=None, category=None, Demand=-1):\n",
    "    df = df.copy()\n",
    "    if ID is not None:\n",
    "        df = df[df.ID == ID]\n",
    "    if category is not None:\n",
    "        df = df[df.category == category]\n",
    "    if Demand > -1:\n",
    "        df = df[df.Demand > Demand]\n",
    "    return df"
   ]
  },
  {
   "cell_type": "code",
   "execution_count": 97,
   "metadata": {},
   "outputs": [],
   "source": [
    "def is_stationary(df, print_stats=False):\n",
    "    result = adfuller(df)\n",
    "    if print_stats:\n",
    "        print('ADF Statistic: %f' % result[0])\n",
    "        print('p-value: %f' % result[1])\n",
    "    return result[1] < 0.001"
   ]
  },
  {
   "cell_type": "markdown",
   "metadata": {},
   "source": [
    "Check stationarity of 100 items with highest frequency"
   ]
  },
  {
   "cell_type": "code",
   "execution_count": 99,
   "metadata": {},
   "outputs": [
    {
     "data": {
      "application/vnd.jupyter.widget-view+json": {
       "model_id": "003dd280fa314bc395ffd08e2fc9034d",
       "version_major": 2,
       "version_minor": 0
      },
      "text/plain": [
       "HBox(children=(IntProgress(value=0), HTML(value='')))"
      ]
     },
     "metadata": {},
     "output_type": "display_data"
    },
    {
     "name": "stdout",
     "output_type": "stream",
     "text": [
      "\n",
      "1/100 are not stationary\n"
     ]
    }
   ],
   "source": [
    "n = 100\n",
    "check_ids = daily_demand_df.ID.value_counts().index[:n]\n",
    "not_stationary = []\n",
    "for check_id in tqdm(check_ids):\n",
    "    df = filter_demand(daily_demand_df, ID=str(check_id)).Demand\n",
    "    if not is_stationary(df):\n",
    "        not_stationary.append(check_id)\n",
    "print('{}/{} are not stationary'.format(len(not_stationary), n))"
   ]
  },
  {
   "cell_type": "markdown",
   "metadata": {},
   "source": [
    "Only one of them is not stationary. Let's write a simple function to apply differencing."
   ]
  },
  {
   "cell_type": "code",
   "execution_count": 100,
   "metadata": {},
   "outputs": [],
   "source": [
    "import warnings\n",
    "def apply_differencing(df, periods=1, ffill=False, stationary_check=True):\n",
    "    df = df.diff(periods=periods)\n",
    "    df = df.ffill() if ffill else df.dropna()\n",
    "        \n",
    "    if stationary_check and not is_stationary(df):\n",
    "        warnings.warn('DataFrame is still not stationary.')\n",
    "    return df"
   ]
  },
  {
   "cell_type": "code",
   "execution_count": 101,
   "metadata": {},
   "outputs": [
    {
     "data": {
      "application/vnd.jupyter.widget-view+json": {
       "model_id": "ff77ace194e3468f8d19629d04a067df",
       "version_major": 2,
       "version_minor": 0
      },
      "text/plain": [
       "HBox(children=(IntProgress(value=0), HTML(value='')))"
      ]
     },
     "metadata": {},
     "output_type": "display_data"
    },
    {
     "name": "stdout",
     "output_type": "stream",
     "text": [
      "\n",
      "0/100 are not stationary\n"
     ]
    }
   ],
   "source": [
    "not_stationary = []\n",
    "for check_id in tqdm(check_ids):\n",
    "    df = filter_demand(daily_demand_df, ID=str(check_id)).Demand\n",
    "    if not is_stationary(apply_differencing(df)):\n",
    "        not_stationary.append(check_id)\n",
    "print('{}/{} are not stationary'.format(len(not_stationary), n))"
   ]
  },
  {
   "cell_type": "markdown",
   "metadata": {},
   "source": [
    "Okay, now we have the function, we only need to call it when we build the model.\n",
    "\n",
    "## Build ARIMA model"
   ]
  },
  {
   "cell_type": "code",
   "execution_count": null,
   "metadata": {},
   "outputs": [],
   "source": []
  },
  {
   "cell_type": "code",
   "execution_count": null,
   "metadata": {},
   "outputs": [],
   "source": [
    "\n"
   ]
  }
 ],
 "metadata": {
  "kernelspec": {
   "display_name": "Python 3",
   "language": "python",
   "name": "python3"
  },
  "language_info": {
   "codemirror_mode": {
    "name": "ipython",
    "version": 3
   },
   "file_extension": ".py",
   "mimetype": "text/x-python",
   "name": "python",
   "nbconvert_exporter": "python",
   "pygments_lexer": "ipython3",
   "version": "3.7.4"
  }
 },
 "nbformat": 4,
 "nbformat_minor": 2
}
