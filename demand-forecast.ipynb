{
 "cells": [
  {
   "cell_type": "markdown",
   "metadata": {},
   "source": [
    "# Product Demand Forecast"
   ]
  },
  {
   "cell_type": "code",
   "execution_count": 1,
   "metadata": {},
   "outputs": [],
   "source": [
    "import pandas as pd\n",
    "import numpy as np\n",
    "\n",
    "from sklearn.model_selection import train_test_split\n",
    "\n",
    "import seaborn as sns\n",
    "import matplotlib.pyplot as plt\n",
    "\n",
    "import statsmodels.api as sm\n",
    "from statsmodels.tsa.stattools import adfuller\n",
    "from statsmodels.tsa.statespace.sarimax import SARIMAX\n",
    "\n",
    "from itertools import product \n",
    "\n",
    "from time import time\n",
    "from datetime import timedelta\n",
    "from tqdm.notebook import tqdm"
   ]
  },
  {
   "cell_type": "code",
   "execution_count": 2,
   "metadata": {},
   "outputs": [],
   "source": [
    "def print_elapsed_time(start):\n",
    "    elapsed = timedelta(seconds=time() - start)\n",
    "    # remove millis\n",
    "    elapsed = str(elapsed).split('.')[0]\n",
    "    print('Elapsed time: {}'.format(elapsed))"
   ]
  },
  {
   "cell_type": "markdown",
   "metadata": {},
   "source": [
    "## Explore data"
   ]
  },
  {
   "cell_type": "markdown",
   "metadata": {},
   "source": [
    "### Read input data"
   ]
  },
  {
   "cell_type": "code",
   "execution_count": 3,
   "metadata": {
    "scrolled": false
   },
   "outputs": [
    {
     "name": "stdout",
     "output_type": "stream",
     "text": [
      "Original: (1048575, 5)\n"
     ]
    },
    {
     "data": {
      "text/html": [
       "<div>\n",
       "<style scoped>\n",
       "    .dataframe tbody tr th:only-of-type {\n",
       "        vertical-align: middle;\n",
       "    }\n",
       "\n",
       "    .dataframe tbody tr th {\n",
       "        vertical-align: top;\n",
       "    }\n",
       "\n",
       "    .dataframe thead th {\n",
       "        text-align: right;\n",
       "    }\n",
       "</style>\n",
       "<table border=\"1\" class=\"dataframe\">\n",
       "  <thead>\n",
       "    <tr style=\"text-align: right;\">\n",
       "      <th></th>\n",
       "      <th>Product_Code</th>\n",
       "      <th>Warehouse</th>\n",
       "      <th>Product_Category</th>\n",
       "      <th>Date</th>\n",
       "      <th>Order_Demand</th>\n",
       "    </tr>\n",
       "  </thead>\n",
       "  <tbody>\n",
       "    <tr>\n",
       "      <th>0</th>\n",
       "      <td>Product_0993</td>\n",
       "      <td>Whse_J</td>\n",
       "      <td>Category_028</td>\n",
       "      <td>2012/7/27</td>\n",
       "      <td>100</td>\n",
       "    </tr>\n",
       "    <tr>\n",
       "      <th>1</th>\n",
       "      <td>Product_0979</td>\n",
       "      <td>Whse_J</td>\n",
       "      <td>Category_028</td>\n",
       "      <td>2012/1/19</td>\n",
       "      <td>500</td>\n",
       "    </tr>\n",
       "    <tr>\n",
       "      <th>2</th>\n",
       "      <td>Product_0979</td>\n",
       "      <td>Whse_J</td>\n",
       "      <td>Category_028</td>\n",
       "      <td>2012/2/3</td>\n",
       "      <td>500</td>\n",
       "    </tr>\n",
       "    <tr>\n",
       "      <th>3</th>\n",
       "      <td>Product_0979</td>\n",
       "      <td>Whse_J</td>\n",
       "      <td>Category_028</td>\n",
       "      <td>2012/2/9</td>\n",
       "      <td>500</td>\n",
       "    </tr>\n",
       "  </tbody>\n",
       "</table>\n",
       "</div>"
      ],
      "text/plain": [
       "   Product_Code Warehouse Product_Category       Date Order_Demand\n",
       "0  Product_0993    Whse_J     Category_028  2012/7/27         100 \n",
       "1  Product_0979    Whse_J     Category_028  2012/1/19         500 \n",
       "2  Product_0979    Whse_J     Category_028   2012/2/3         500 \n",
       "3  Product_0979    Whse_J     Category_028   2012/2/9         500 "
      ]
     },
     "execution_count": 3,
     "metadata": {},
     "output_type": "execute_result"
    }
   ],
   "source": [
    "orig_demand_df = pd.read_csv('Historical Product Demand.csv')\n",
    "print('Original: ' + str(orig_demand_df.shape))\n",
    "orig_demand_df.head(4)"
   ]
  },
  {
   "cell_type": "markdown",
   "metadata": {},
   "source": [
    "### Data preprocessing"
   ]
  },
  {
   "cell_type": "markdown",
   "metadata": {},
   "source": [
    "Use more compact and consistent column names"
   ]
  },
  {
   "cell_type": "code",
   "execution_count": 4,
   "metadata": {},
   "outputs": [],
   "source": [
    "demand_df = orig_demand_df.copy()\n",
    "demand_df.columns = ['ID', 'Warehouse', 'Category', 'Date', 'Demand']"
   ]
  },
  {
   "cell_type": "markdown",
   "metadata": {},
   "source": [
    "Then, Let's check for NAs"
   ]
  },
  {
   "cell_type": "code",
   "execution_count": 5,
   "metadata": {},
   "outputs": [
    {
     "data": {
      "text/plain": [
       "ID               0\n",
       "Warehouse        0\n",
       "Category         0\n",
       "Date         11239\n",
       "Demand           0\n",
       "dtype: int64"
      ]
     },
     "execution_count": 5,
     "metadata": {},
     "output_type": "execute_result"
    }
   ],
   "source": [
    "demand_df.isna().sum()"
   ]
  },
  {
   "cell_type": "markdown",
   "metadata": {},
   "source": [
    "As we can see, only date column has NAs. Since we literally have no way to figure out the missing date, we need to drop all of them."
   ]
  },
  {
   "cell_type": "code",
   "execution_count": 6,
   "metadata": {},
   "outputs": [
    {
     "name": "stdout",
     "output_type": "stream",
     "text": [
      "After: (1037336, 5)\n"
     ]
    }
   ],
   "source": [
    "# remove NA\n",
    "demand_df.dropna(inplace=True)\n",
    "print('After: ' + str(demand_df.shape))"
   ]
  },
  {
   "cell_type": "code",
   "execution_count": 7,
   "metadata": {},
   "outputs": [],
   "source": [
    "# convert demand to int\n",
    "demand_df.Demand = demand_df.Demand.str.replace('\\(|\\)', '').astype(int)\n",
    "# convert to datetime\n",
    "demand_df.Date = pd.to_datetime(demand_df.Date)"
   ]
  },
  {
   "cell_type": "code",
   "execution_count": 8,
   "metadata": {},
   "outputs": [],
   "source": [
    "# Remove redundant prefixes\n",
    "demand_df.ID = [cat.split('_')[1] for cat in demand_df.ID]\n",
    "demand_df.Category = [cat.split('_')[1] for cat in demand_df.Category]"
   ]
  },
  {
   "cell_type": "markdown",
   "metadata": {},
   "source": [
    "convert the data to daily"
   ]
  },
  {
   "cell_type": "code",
   "execution_count": 9,
   "metadata": {},
   "outputs": [
    {
     "data": {
      "text/html": [
       "<div>\n",
       "<style scoped>\n",
       "    .dataframe tbody tr th:only-of-type {\n",
       "        vertical-align: middle;\n",
       "    }\n",
       "\n",
       "    .dataframe tbody tr th {\n",
       "        vertical-align: top;\n",
       "    }\n",
       "\n",
       "    .dataframe thead th {\n",
       "        text-align: right;\n",
       "    }\n",
       "</style>\n",
       "<table border=\"1\" class=\"dataframe\">\n",
       "  <thead>\n",
       "    <tr style=\"text-align: right;\">\n",
       "      <th></th>\n",
       "      <th>ID</th>\n",
       "      <th>Date</th>\n",
       "      <th>Category</th>\n",
       "      <th>Demand</th>\n",
       "    </tr>\n",
       "  </thead>\n",
       "  <tbody>\n",
       "    <tr>\n",
       "      <th>232656</th>\n",
       "      <td>0965</td>\n",
       "      <td>2011-01-08</td>\n",
       "      <td>006</td>\n",
       "      <td>2</td>\n",
       "    </tr>\n",
       "    <tr>\n",
       "      <th>484830</th>\n",
       "      <td>1724</td>\n",
       "      <td>2011-05-31</td>\n",
       "      <td>003</td>\n",
       "      <td>108</td>\n",
       "    </tr>\n",
       "    <tr>\n",
       "      <th>436505</th>\n",
       "      <td>1521</td>\n",
       "      <td>2011-06-24</td>\n",
       "      <td>019</td>\n",
       "      <td>92000</td>\n",
       "    </tr>\n",
       "    <tr>\n",
       "      <th>429489</th>\n",
       "      <td>1507</td>\n",
       "      <td>2011-09-02</td>\n",
       "      <td>019</td>\n",
       "      <td>1250</td>\n",
       "    </tr>\n",
       "    <tr>\n",
       "      <th>151560</th>\n",
       "      <td>0608</td>\n",
       "      <td>2011-09-27</td>\n",
       "      <td>001</td>\n",
       "      <td>5</td>\n",
       "    </tr>\n",
       "    <tr>\n",
       "      <th>...</th>\n",
       "      <td>...</td>\n",
       "      <td>...</td>\n",
       "      <td>...</td>\n",
       "      <td>...</td>\n",
       "    </tr>\n",
       "    <tr>\n",
       "      <th>533387</th>\n",
       "      <td>1954</td>\n",
       "      <td>2017-01-06</td>\n",
       "      <td>001</td>\n",
       "      <td>3</td>\n",
       "    </tr>\n",
       "    <tr>\n",
       "      <th>538289</th>\n",
       "      <td>1970</td>\n",
       "      <td>2017-01-06</td>\n",
       "      <td>005</td>\n",
       "      <td>4000</td>\n",
       "    </tr>\n",
       "    <tr>\n",
       "      <th>75607</th>\n",
       "      <td>0250</td>\n",
       "      <td>2017-01-09</td>\n",
       "      <td>007</td>\n",
       "      <td>148</td>\n",
       "    </tr>\n",
       "    <tr>\n",
       "      <th>130234</th>\n",
       "      <td>0471</td>\n",
       "      <td>2017-01-09</td>\n",
       "      <td>015</td>\n",
       "      <td>30</td>\n",
       "    </tr>\n",
       "    <tr>\n",
       "      <th>525952</th>\n",
       "      <td>1904</td>\n",
       "      <td>2017-01-09</td>\n",
       "      <td>019</td>\n",
       "      <td>4000</td>\n",
       "    </tr>\n",
       "  </tbody>\n",
       "</table>\n",
       "<p>582504 rows × 4 columns</p>\n",
       "</div>"
      ],
      "text/plain": [
       "          ID       Date Category  Demand\n",
       "232656  0965 2011-01-08      006       2\n",
       "484830  1724 2011-05-31      003     108\n",
       "436505  1521 2011-06-24      019   92000\n",
       "429489  1507 2011-09-02      019    1250\n",
       "151560  0608 2011-09-27      001       5\n",
       "...      ...        ...      ...     ...\n",
       "533387  1954 2017-01-06      001       3\n",
       "538289  1970 2017-01-06      005    4000\n",
       "75607   0250 2017-01-09      007     148\n",
       "130234  0471 2017-01-09      015      30\n",
       "525952  1904 2017-01-09      019    4000\n",
       "\n",
       "[582504 rows x 4 columns]"
      ]
     },
     "execution_count": 9,
     "metadata": {},
     "output_type": "execute_result"
    }
   ],
   "source": [
    "daily_demand_df = demand_df.groupby(['ID', 'Date', 'Category']).sum()\n",
    "daily_demand_df = daily_demand_df.reset_index().sort_values(['Date', 'ID'])\n",
    "daily_demand_df"
   ]
  },
  {
   "cell_type": "markdown",
   "metadata": {},
   "source": [
    "A little summary for our data"
   ]
  },
  {
   "cell_type": "code",
   "execution_count": 10,
   "metadata": {},
   "outputs": [],
   "source": [
    "def get_date_range(df, debugging=False):\n",
    "    dates = df.Date if 'Date' in df.columns else df.index\n",
    "    date_range = (dates.min(), dates.max())\n",
    "    if debugging:\n",
    "        print('({} - {})'.format(*date_range))\n",
    "    return date_range"
   ]
  },
  {
   "cell_type": "code",
   "execution_count": 11,
   "metadata": {},
   "outputs": [
    {
     "name": "stdout",
     "output_type": "stream",
     "text": [
      "Date range: \n",
      "(2011-01-08 00:00:00 - 2017-01-09 00:00:00)\n"
     ]
    },
    {
     "data": {
      "text/html": [
       "<div>\n",
       "<style scoped>\n",
       "    .dataframe tbody tr th:only-of-type {\n",
       "        vertical-align: middle;\n",
       "    }\n",
       "\n",
       "    .dataframe tbody tr th {\n",
       "        vertical-align: top;\n",
       "    }\n",
       "\n",
       "    .dataframe thead th {\n",
       "        text-align: right;\n",
       "    }\n",
       "</style>\n",
       "<table border=\"1\" class=\"dataframe\">\n",
       "  <thead>\n",
       "    <tr style=\"text-align: right;\">\n",
       "      <th></th>\n",
       "      <th>ID</th>\n",
       "      <th>Category</th>\n",
       "      <th>Demand</th>\n",
       "    </tr>\n",
       "  </thead>\n",
       "  <tbody>\n",
       "    <tr>\n",
       "      <th>count</th>\n",
       "      <td>582504</td>\n",
       "      <td>582504</td>\n",
       "      <td>582504.0</td>\n",
       "    </tr>\n",
       "    <tr>\n",
       "      <th>unique</th>\n",
       "      <td>2160</td>\n",
       "      <td>33</td>\n",
       "      <td>NaN</td>\n",
       "    </tr>\n",
       "    <tr>\n",
       "      <th>top</th>\n",
       "      <td>0349</td>\n",
       "      <td>019</td>\n",
       "      <td>NaN</td>\n",
       "    </tr>\n",
       "    <tr>\n",
       "      <th>freq</th>\n",
       "      <td>1295</td>\n",
       "      <td>205646</td>\n",
       "      <td>NaN</td>\n",
       "    </tr>\n",
       "  </tbody>\n",
       "</table>\n",
       "</div>"
      ],
      "text/plain": [
       "            ID Category    Demand\n",
       "count   582504   582504  582504.0\n",
       "unique    2160       33       NaN\n",
       "top       0349      019       NaN\n",
       "freq      1295   205646       NaN"
      ]
     },
     "execution_count": 11,
     "metadata": {},
     "output_type": "execute_result"
    }
   ],
   "source": [
    "print('Date range: ')\n",
    "date_range = get_date_range(daily_demand_df, debugging=True)\n",
    "daily_demand_df.drop('Date', axis=1).describe(include='all').iloc[:4,:]"
   ]
  },
  {
   "cell_type": "markdown",
   "metadata": {},
   "source": [
    "### Generic plots"
   ]
  },
  {
   "cell_type": "code",
   "execution_count": 12,
   "metadata": {},
   "outputs": [],
   "source": [
    "sns.set(rc={'figure.figsize':(15, 8)})"
   ]
  },
  {
   "cell_type": "code",
   "execution_count": 13,
   "metadata": {},
   "outputs": [],
   "source": [
    "# # sns.lineplot(data=demand_df, x='Date', y='Order_Demand', hue='Product_Category')\n",
    "\n",
    "# cumsum_demand_df = demand_df.sort_values('Date')\n",
    "# cumsum_demand_df['cumsum'] = cumsum_demand_df.groupby('Product_Category').cumsum()\n",
    "\n",
    "# sns.lineplot(data=cumsum_demand_df, x='Date', y='cumsum', hue='Product_Category')\n",
    "\n",
    "# del cumsum_demand_df"
   ]
  },
  {
   "cell_type": "code",
   "execution_count": 14,
   "metadata": {},
   "outputs": [],
   "source": [
    "# demand_by_cat_df = demand_df.groupby('Product_Category').sum().reset_index()\n",
    "# sns.set_style(\"whitegrid\")\n",
    "# g = sns.barplot(data=demand_by_cat_df, y='Order_Demand', x='Product_Category')\n",
    "# g.set_yscale(\"log\")\n",
    "# del demand_by_cat_df, g"
   ]
  },
  {
   "cell_type": "code",
   "execution_count": 15,
   "metadata": {},
   "outputs": [],
   "source": [
    "# g = sns.boxplot(data=demand_df, y='Order_Demand', x='Product_Category', showfliers=True)\n",
    "# g.set_yscale(\"log\")\n",
    "# del g"
   ]
  },
  {
   "cell_type": "code",
   "execution_count": 16,
   "metadata": {},
   "outputs": [],
   "source": [
    "# g = sns.boxplot(data=demand_df, y='Order_Demand', x='Warehouse', showfliers=True)\n",
    "# g.set_yscale(\"log\")\n",
    "# del g"
   ]
  },
  {
   "cell_type": "markdown",
   "metadata": {},
   "source": [
    "### Split dataset"
   ]
  },
  {
   "cell_type": "code",
   "execution_count": 17,
   "metadata": {},
   "outputs": [
    {
     "name": "stdout",
     "output_type": "stream",
     "text": [
      "Train: (524253, 4)\n",
      "Test : (58251, 4)\n"
     ]
    }
   ],
   "source": [
    "train_df, test_df = train_test_split(daily_demand_df, test_size=0.1)\n",
    "print('Train: {}'.format(train_df.shape))\n",
    "print('Test : {}'.format(test_df.shape))"
   ]
  },
  {
   "cell_type": "markdown",
   "metadata": {},
   "source": [
    "## Exploratory time-series analysis"
   ]
  },
  {
   "cell_type": "markdown",
   "metadata": {},
   "source": [
    "### Stationarity check"
   ]
  },
  {
   "cell_type": "code",
   "execution_count": 18,
   "metadata": {},
   "outputs": [],
   "source": [
    "# simple function to filter dataframe with given parameters\n",
    "def filter_demand(df, ID=None, category=None, Demand=-1):\n",
    "    df = df.copy()\n",
    "    if ID is not None:\n",
    "        df = df[df.ID == ID]\n",
    "    if category is not None:\n",
    "        df = df[df.category == category]\n",
    "    if Demand > -1:\n",
    "        df = df[df.Demand > Demand]\n",
    "    return df"
   ]
  },
  {
   "cell_type": "code",
   "execution_count": 19,
   "metadata": {},
   "outputs": [],
   "source": [
    "def is_stationary(df, print_stats=False):\n",
    "    result = adfuller(df)\n",
    "    if print_stats:\n",
    "        print('ADF Statistic: %f' % result[0])\n",
    "        print('p-value: %f' % result[1])\n",
    "    return result[1] < 0.001"
   ]
  },
  {
   "cell_type": "markdown",
   "metadata": {},
   "source": [
    "Check stationarity of 100 items with highest frequency"
   ]
  },
  {
   "cell_type": "code",
   "execution_count": 20,
   "metadata": {},
   "outputs": [
    {
     "data": {
      "application/vnd.jupyter.widget-view+json": {
       "model_id": "3da1eec99e7d452a8c9dc273eca199a2",
       "version_major": 2,
       "version_minor": 0
      },
      "text/plain": [
       "HBox(children=(IntProgress(value=0), HTML(value='')))"
      ]
     },
     "metadata": {},
     "output_type": "display_data"
    },
    {
     "name": "stdout",
     "output_type": "stream",
     "text": [
      "\n",
      "1/100 are not stationary\n"
     ]
    }
   ],
   "source": [
    "n = 100\n",
    "check_ids = daily_demand_df.ID.value_counts().index[:n]\n",
    "not_stationary = []\n",
    "for check_id in tqdm(check_ids):\n",
    "    df = filter_demand(daily_demand_df, ID=str(check_id)).Demand\n",
    "    if not is_stationary(df):\n",
    "        not_stationary.append(check_id)\n",
    "print('{}/{} are not stationary'.format(len(not_stationary), n))"
   ]
  },
  {
   "cell_type": "markdown",
   "metadata": {},
   "source": [
    "Only one of them is not stationary. Let's write a simple function to apply differencing."
   ]
  },
  {
   "cell_type": "code",
   "execution_count": 21,
   "metadata": {},
   "outputs": [],
   "source": [
    "import warnings\n",
    "def apply_differencing(df, periods=1, ffill=False, stationary_check=True):\n",
    "    if isinstance(df, pd.DataFrame) and 'Demand' in df.columns:\n",
    "        df.Demand = df.Demand.diff(periods=periods)\n",
    "    else:\n",
    "        df = df.diff(periods=periods)\n",
    "    df = df.ffill() if ffill else df.dropna()\n",
    "        \n",
    "    if stationary_check and not is_stationary(df.Demand if isinstance(df, pd.DataFrame) else df):\n",
    "        warnings.warn('DataFrame is still not stationary.')\n",
    "    return df"
   ]
  },
  {
   "cell_type": "code",
   "execution_count": 22,
   "metadata": {},
   "outputs": [
    {
     "data": {
      "application/vnd.jupyter.widget-view+json": {
       "model_id": "321e4cd33ac44931be294afdde08d9f7",
       "version_major": 2,
       "version_minor": 0
      },
      "text/plain": [
       "HBox(children=(IntProgress(value=0), HTML(value='')))"
      ]
     },
     "metadata": {},
     "output_type": "display_data"
    },
    {
     "name": "stdout",
     "output_type": "stream",
     "text": [
      "\n",
      "0/100 are not stationary\n"
     ]
    }
   ],
   "source": [
    "not_stationary = []\n",
    "for check_id in tqdm(check_ids):\n",
    "    df = filter_demand(daily_demand_df, ID=str(check_id)).Demand\n",
    "    if not is_stationary(apply_differencing(df)):\n",
    "        not_stationary.append(check_id)\n",
    "print('{}/{} are not stationary'.format(len(not_stationary), n))"
   ]
  },
  {
   "cell_type": "markdown",
   "metadata": {},
   "source": [
    "Okay, now we have the function, we only need to call it when we build the model."
   ]
  },
  {
   "cell_type": "markdown",
   "metadata": {},
   "source": [
    "## Finding correlation  "
   ]
  },
  {
   "cell_type": "markdown",
   "metadata": {},
   "source": [
    "First, since we're dealing with one product at a time, we need a simple function to filter dataset based on product code (ID). Since a lot of days will have no demand for that particulat product, we need to fill those missing dates with 0."
   ]
  },
  {
   "cell_type": "code",
   "execution_count": 23,
   "metadata": {},
   "outputs": [],
   "source": [
    "# a simple function to get appropriate training data\n",
    "def get_train_data(df, date_range=None, differencing=0):\n",
    "    # we don't need these columns now\n",
    "    df = df.drop(columns=['ID', 'Category'])\n",
    "    \n",
    "    df = df.set_index('Date')\n",
    "    \n",
    "    # fill date gap with 0\n",
    "    if date_range is not None:\n",
    "        idx = pd.date_range(*date_range)\n",
    "        df = df.reindex(idx, fill_value=0)\n",
    "        \n",
    "    # apply diffencing of 0\n",
    "    if differencing > 0:\n",
    "        df = apply_differencing(df, periods=differencing)\n",
    "    \n",
    "    return df"
   ]
  },
  {
   "cell_type": "markdown",
   "metadata": {},
   "source": [
    "Next, we need a specific product to find out the correlation\n",
    "\n",
    "**Clarification**: Each product's demand might be completely different from each other, so the correlation of one product might not hold true to others, eventually produces inaccurate results. In this project, I will only consider products with high demand, e.g. staples, so there will be high chance that they have similar correlation."
   ]
  },
  {
   "cell_type": "code",
   "execution_count": 24,
   "metadata": {},
   "outputs": [
    {
     "name": "stdout",
     "output_type": "stream",
     "text": [
      "(2011-01-08 00:00:00 - 2017-01-09 00:00:00)\n"
     ]
    }
   ],
   "source": [
    "# getting the item with highest demand\n",
    "highest_freq_item_df = filter_demand(train_df, ID=str(check_ids[0]))\n",
    "train_date_range = get_date_range(train_df, debugging=True)\n",
    "item_df = get_train_data(highest_freq_item_df, train_date_range)\n",
    "item_diff_df = get_train_data(highest_freq_item_df, train_date_range, differencing=True)\n",
    "del highest_freq_item_df"
   ]
  },
  {
   "cell_type": "code",
   "execution_count": 25,
   "metadata": {},
   "outputs": [
    {
     "data": {
      "image/png": "[encoded data removed]",
      "text/plain": [
       "<Figure size 1296x288 with 4 Axes>"
      ]
     },
     "metadata": {},
     "output_type": "display_data"
    }
   ],
   "source": [
    "fig, ax = plt.subplots(1, 4, figsize=(18,4))\n",
    "lags = 30\n",
    "sm.graphics.tsa.plot_acf(item_df, lags=lags, ax=ax[0], title='Autocorrelation')\n",
    "sm.graphics.tsa.plot_pacf(item_df, lags=lags, ax=ax[1], title='Partial autocorrelation')\n",
    "sm.graphics.tsa.plot_acf(item_diff_df, lags=lags, ax=ax[2], title='Autocorrelation')\n",
    "sm.graphics.tsa.plot_pacf(item_diff_df, lags=lags, ax=ax[3], title='Partial autocorrelation')\n",
    "pass"
   ]
  },
  {
   "cell_type": "markdown",
   "metadata": {},
   "source": [
    "As expected, the data have both daily and weekly seasonality.\n",
    "\n",
    "In this project, I will use **_TBATS_**, a method specifically designed to handle datasets with multiple seasonalities. The traditional **_SARIMA_** model will also be conducted to compare the results."
   ]
  },
  {
   "cell_type": "markdown",
   "metadata": {},
   "source": [
    "## SARIMA\n",
    "\n",
    "### Finding right parameters"
   ]
  },
  {
   "cell_type": "code",
   "execution_count": 26,
   "metadata": {},
   "outputs": [],
   "source": [
    "from sklearn.utils.testing import ignore_warnings\n",
    "from sklearn.exceptions import ConvergenceWarning\n",
    "\n",
    "def_range = range(0,4)\n",
    "\n",
    "@ignore_warnings(category=ConvergenceWarning)\n",
    "def optimize_SARIMA(df, p_range=def_range, d=1, q_range=def_range, \\\n",
    "                    P_range=def_range, D=1, Q_range=def_range, s_range=def_range):   \n",
    "    results = []\n",
    "    best_aic = float('inf')\n",
    "    \n",
    "    params = list(product(p_range, q_range, P_range, Q_range, s_range))\n",
    "    warnings.simplefilter(\"ignore\")\n",
    "    for param in tqdm(params):\n",
    "        try: model = SARIMAX(df, order=(param[0], d, param[1]),\n",
    "                             seasonal_order=(param[2], D, param[3], param[4])).fit(disp=-1)\n",
    "        except: continue\n",
    "        if model.aic < best_aic:\n",
    "            best_model = model\n",
    "            best_aic = model.aic\n",
    "            best_param = param\n",
    "        results.append([param, model.aic])\n",
    "        \n",
    "    results = pd.DataFrame(results, columns=['param', 'aic']).sort_values('aic')\n",
    "    return results.reset_index(drop=True)"
   ]
  },
  {
   "cell_type": "code",
   "execution_count": null,
   "metadata": {},
   "outputs": [
    {
     "data": {
      "application/vnd.jupyter.widget-view+json": {
       "model_id": "1932429f4072410b902eada068e72493",
       "version_major": 2,
       "version_minor": 0
      },
      "text/plain": [
       "HBox(children=(IntProgress(value=0, max=1024), HTML(value='')))"
      ]
     },
     "metadata": {},
     "output_type": "display_data"
    }
   ],
   "source": [
    "start_time = time()\n",
    "d = 1\n",
    "D = 0\n",
    "tried_models = optimize_SARIMA(item_df, d=d, D=D, s_range=(1,2,5,7))\n",
    "print_elapsed_time(start_time)"
   ]
  },
  {
   "cell_type": "code",
   "execution_count": null,
   "metadata": {},
   "outputs": [],
   "source": [
    "tried_models[:5]"
   ]
  },
  {
   "cell_type": "markdown",
   "metadata": {},
   "source": [
    "So, we have the params for our SARIMA model now"
   ]
  },
  {
   "cell_type": "code",
   "execution_count": null,
   "metadata": {},
   "outputs": [],
   "source": [
    "best_model = tried_models.param[0]\n",
    "order = (best_model[0], d, best_model[1])\n",
    "seasonal_order = (best_model[2], D, best_model[3], best_model[4])"
   ]
  },
  {
   "cell_type": "markdown",
   "metadata": {},
   "source": [
    "### Build SARIMA model"
   ]
  },
  {
   "cell_type": "code",
   "execution_count": null,
   "metadata": {},
   "outputs": [],
   "source": [
    "# train_ratio = 0.1\n",
    "# train_df, test_df = train_test_split(daily_demand_df, test_size=0.1)\n",
    "# print('Train: {}'.format(train_df.shape))\n",
    "# print('Test : {}'.format(test_df.shape))"
   ]
  },
  {
   "cell_type": "code",
   "execution_count": null,
   "metadata": {},
   "outputs": [],
   "source": []
  },
  {
   "cell_type": "code",
   "execution_count": null,
   "metadata": {},
   "outputs": [],
   "source": [
    "\n"
   ]
  }
 ],
 "metadata": {
  "kernelspec": {
   "display_name": "Python 3",
   "language": "python",
   "name": "python3"
  },
  "language_info": {
   "codemirror_mode": {
    "name": "ipython",
    "version": 3
   },
   "file_extension": ".py",
   "mimetype": "text/x-python",
   "name": "python",
   "nbconvert_exporter": "python",
   "pygments_lexer": "ipython3",
   "version": "3.7.4"
  }
 },
 "nbformat": 4,
 "nbformat_minor": 2
}
